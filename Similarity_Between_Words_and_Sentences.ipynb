{
  "nbformat": 4,
  "nbformat_minor": 0,
  "metadata": {
    "colab": {
      "provenance": [],
      "authorship_tag": "ABX9TyPUPhSCY/qt3ez7FOZD5XAG",
      "include_colab_link": true
    },
    "kernelspec": {
      "name": "python3",
      "display_name": "Python 3"
    },
    "language_info": {
      "name": "python"
    }
  },
  "cells": [
    {
      "cell_type": "markdown",
      "metadata": {
        "id": "view-in-github",
        "colab_type": "text"
      },
      "source": [
        "<a href=\"https://colab.research.google.com/github/joannamooon/Learning-to-Machine-Learn/blob/main/Similarity_Between_Words_and_Sentences.ipynb\" target=\"_parent\"><img src=\"https://colab.research.google.com/assets/colab-badge.svg\" alt=\"Open In Colab\"/></a>"
      ]
    },
    {
      "cell_type": "code",
      "source": [
        "! pip install cohere -q"
      ],
      "metadata": {
        "colab": {
          "base_uri": "https://localhost:8080/"
        },
        "id": "DSwCgiJ43iEV",
        "outputId": "563e5a92-d46d-4b92-a0a5-5e58981acf58"
      },
      "execution_count": null,
      "outputs": [
        {
          "output_type": "stream",
          "name": "stdout",
          "text": [
            "\u001b[2K     \u001b[90m━━━━━━━━━━━━━━━━━━━━━━━━━━━━━━━━━━━━━━━━\u001b[0m \u001b[32m158.5/158.5 kB\u001b[0m \u001b[31m2.4 MB/s\u001b[0m eta \u001b[36m0:00:00\u001b[0m\n",
            "\u001b[2K     \u001b[90m━━━━━━━━━━━━━━━━━━━━━━━━━━━━━━━━━━━━━━━━\u001b[0m \u001b[32m139.3/139.3 kB\u001b[0m \u001b[31m12.1 MB/s\u001b[0m eta \u001b[36m0:00:00\u001b[0m\n",
            "\u001b[2K     \u001b[90m━━━━━━━━━━━━━━━━━━━━━━━━━━━━━━━━━━━━━━━━\u001b[0m \u001b[32m3.1/3.1 MB\u001b[0m \u001b[31m14.0 MB/s\u001b[0m eta \u001b[36m0:00:00\u001b[0m\n",
            "\u001b[2K     \u001b[90m━━━━━━━━━━━━━━━━━━━━━━━━━━━━━━━━━━━━━━━━\u001b[0m \u001b[32m75.6/75.6 kB\u001b[0m \u001b[31m10.4 MB/s\u001b[0m eta \u001b[36m0:00:00\u001b[0m\n",
            "\u001b[2K     \u001b[90m━━━━━━━━━━━━━━━━━━━━━━━━━━━━━━━━━━━━━━━━\u001b[0m \u001b[32m12.2/12.2 MB\u001b[0m \u001b[31m29.3 MB/s\u001b[0m eta \u001b[36m0:00:00\u001b[0m\n",
            "\u001b[2K     \u001b[90m━━━━━━━━━━━━━━━━━━━━━━━━━━━━━━━━━━━━━━━━\u001b[0m \u001b[32m82.2/82.2 kB\u001b[0m \u001b[31m10.3 MB/s\u001b[0m eta \u001b[36m0:00:00\u001b[0m\n",
            "\u001b[2K     \u001b[90m━━━━━━━━━━━━━━━━━━━━━━━━━━━━━━━━━━━━━━━━\u001b[0m \u001b[32m77.9/77.9 kB\u001b[0m \u001b[31m9.9 MB/s\u001b[0m eta \u001b[36m0:00:00\u001b[0m\n",
            "\u001b[2K     \u001b[90m━━━━━━━━━━━━━━━━━━━━━━━━━━━━━━━━━━━━━━━━\u001b[0m \u001b[32m58.3/58.3 kB\u001b[0m \u001b[31m6.6 MB/s\u001b[0m eta \u001b[36m0:00:00\u001b[0m\n",
            "\u001b[?25h"
          ]
        }
      ]
    },
    {
      "cell_type": "code",
      "execution_count": null,
      "metadata": {
        "id": "Y13OTt_33TnS"
      },
      "outputs": [],
      "source": [
        "import cohere\n",
        "import numpy as np\n",
        "import seaborn as sns\n",
        "import altair as alt\n",
        "from sklearn.metrics.pairwise import cosine_similarity"
      ]
    },
    {
      "cell_type": "code",
      "source": [
        "co = cohere.Client(\"\")"
      ],
      "metadata": {
        "id": "ggbU0lin3kB5"
      },
      "execution_count": null,
      "outputs": []
    },
    {
      "cell_type": "code",
      "source": [
        "texts = [\"I like bananas\", \"bananas are my favorite fruit\", \"all hail king gru\"]"
      ],
      "metadata": {
        "id": "R1MtKv8333nI"
      },
      "execution_count": null,
      "outputs": []
    },
    {
      "cell_type": "code",
      "source": [
        "response = co.embed(\n",
        "    texts = texts,\n",
        "    model='embed-english-v3.0',\n",
        "    input_type = 'search_document'\n",
        ")"
      ],
      "metadata": {
        "id": "YGlA1ThH4Aqe"
      },
      "execution_count": null,
      "outputs": []
    },
    {
      "cell_type": "code",
      "source": [
        "embeddings = response.embeddings\n",
        "\n",
        "[sentence1, sentence2, sentence3] = embeddings\n",
        "\n",
        "print(\"Embedding for sentence 1\", np.array(sentence1))\n",
        "print(\"Embedding for sentence 2\", np.array(sentence2))\n",
        "print(\"Embedding for sentence 3\", np.array(sentence3))"
      ],
      "metadata": {
        "colab": {
          "base_uri": "https://localhost:8080/"
        },
        "id": "uiMM4-CC4OlK",
        "outputId": "60d0fc8a-6bd9-414a-cd35-402d122699c5"
      },
      "execution_count": null,
      "outputs": [
        {
          "output_type": "stream",
          "name": "stdout",
          "text": [
            "Embedding for sentence 1 [ 0.01756287  0.03323364 -0.03207397 ... -0.03659058 -0.01309204\n",
            " -0.00870514]\n",
            "Embedding for sentence 2 [ 0.00919342  0.01419067 -0.02655029 ... -0.0221405  -0.01024628\n",
            "  0.00216293]\n",
            "Embedding for sentence 3 [ 0.03295898  0.00550461 -0.01107025 ... -0.02914429 -0.01647949\n",
            " -0.00933075]\n"
          ]
        }
      ]
    },
    {
      "cell_type": "code",
      "source": [
        "print(\"Similarity between sentences 1 and 2:\", np.dot(sentence1, sentence2))\n",
        "print(\"Similarity between sentences 1 and 3:\", np.dot(sentence1, sentence3))\n",
        "print(\"Similarity between sentences 2 and 3:\", np.dot(sentence2, sentence3))"
      ],
      "metadata": {
        "colab": {
          "base_uri": "https://localhost:8080/"
        },
        "id": "yYS0Sfou4Ye-",
        "outputId": "cb1cbb01-d9be-482e-99fb-5d71230a4548"
      },
      "execution_count": null,
      "outputs": [
        {
          "output_type": "stream",
          "name": "stdout",
          "text": [
            "Similarity between sentences 1 and 2: 0.8661315760643093\n",
            "Similarity between sentences 1 and 3: 0.41541269479574794\n",
            "Similarity between sentences 2 and 3: 0.35046098501438705\n"
          ]
        }
      ]
    },
    {
      "cell_type": "code",
      "source": [
        "print(\"Similarity between sentences 1 and 1:\", np.dot(sentence1, sentence1))\n",
        "print(\"Similarity between sentences 2 and 2:\", np.dot(sentence2, sentence2))\n",
        "print(\"Similarity between sentences 3 and 3:\", np.dot(sentence3, sentence3))"
      ],
      "metadata": {
        "colab": {
          "base_uri": "https://localhost:8080/"
        },
        "id": "zypQqMD54eJG",
        "outputId": "d7030050-c236-49d0-c9fe-991e0a83cec9"
      },
      "execution_count": null,
      "outputs": [
        {
          "output_type": "stream",
          "name": "stdout",
          "text": [
            "Similarity between sentences 1 and 1: 1.0002137888941132\n",
            "Similarity between sentences 2 and 2: 1.000380798014188\n",
            "Similarity between sentences 3 and 3: 1.000106821551554\n"
          ]
        }
      ]
    },
    {
      "cell_type": "code",
      "source": [
        "print(\"Cosine similarity between sentences 1 and 2:\", cosine_similarity([sentence1], [sentence2])[0][0])\n",
        "print(\"Cosine similarity between sentences 1 and 3:\", cosine_similarity([sentence1], [sentence3])[0][0])\n",
        "print(\"Cosine similarity between sentences 2 and 3:\", cosine_similarity([sentence2], [sentence3])[0][0])"
      ],
      "metadata": {
        "colab": {
          "base_uri": "https://localhost:8080/"
        },
        "id": "QaJD5Hlm4iYM",
        "outputId": "e2f9aae9-5a2c-4d68-fa8f-452cd5d59916"
      },
      "execution_count": null,
      "outputs": [
        {
          "output_type": "stream",
          "name": "stdout",
          "text": [
            "Cosine similarity between sentences 1 and 2: 0.8658741603622937\n",
            "Cosine similarity between sentences 1 and 3: 0.4153461132384664\n",
            "Cosine similarity between sentences 2 and 3: 0.3503755633111061\n"
          ]
        }
      ]
    },
    {
      "cell_type": "code",
      "source": [
        "# Get pairwise dot product similarities\n",
        "dot_product_similarities = [[cosine_similarity([embeddings[i]], [embeddings[j]])[0][0] for i in range(len(embeddings))] for j in range(len(embeddings))]\n",
        "\n",
        "# Plot in 3x3 grid\n",
        "ax = sns.heatmap(dot_product_similarities, vmin=0, vmax=1,\n",
        "                 linewidths=1, linecolor='grey',\n",
        "                 xticklabels=texts,\n",
        "                 yticklabels=texts,\n",
        ")\n",
        "ax.set_xticklabels(labels=texts, rotation=45)"
      ],
      "metadata": {
        "id": "woZHZKX94oLL",
        "outputId": "8c57f12e-3f98-4b86-ef8f-f3ab80a8e86a",
        "colab": {
          "base_uri": "https://localhost:8080/",
          "height": 627
        }
      },
      "execution_count": null,
      "outputs": [
        {
          "output_type": "execute_result",
          "data": {
            "text/plain": [
              "[Text(0.5, 0, 'I like bananas'),\n",
              " Text(1.5, 0, 'bananas are my favorite fruit'),\n",
              " Text(2.5, 0, 'all hail king gru')]"
            ]
          },
          "metadata": {},
          "execution_count": 11
        },
        {
          "output_type": "display_data",
          "data": {
            "text/plain": [
              "<Figure size 640x480 with 2 Axes>"
            ],
            "image/png": "[encoded data removed]"
          },
          "metadata": {}
        }
      ]
    }
  ]
}